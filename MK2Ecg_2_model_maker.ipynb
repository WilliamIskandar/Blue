{
 "cells": [
  {
   "cell_type": "code",
   "execution_count": 1,
   "metadata": {},
   "outputs": [],
   "source": [
    "import tensorflow as tf\n",
    "import numpy as np\n",
    "from tensorflow.keras.datasets import cifar10\n",
    "from tensorflow.keras.preprocessing.image import ImageDataGenerator\n",
    "from tensorflow.keras.models import Sequential\n",
    "from tensorflow.keras.layers import Dense, Dropout, Activation, Flatten\n",
    "from tensorflow.keras.layers import Conv2D, MaxPooling2D\n",
    "#from keras.utils import to_categorical\n",
    "\n",
    "from keras.layers import LeakyReLU, Concatenate, concatenate, Lambda, UpSampling2D, Add, Input, Dense\n",
    "from keras.layers import Conv2D, MaxPooling2D, Activation, Dropout, Flatten, BatchNormalization\n",
    "from keras.models import Model,load_model\n",
    "from keras.optimizers import Adam\n",
    "import keras.backend as K\n",
    "from keras.preprocessing.image import ImageDataGenerator\n",
    "from keras.utils.np_utils import to_categorical\n",
    "\n",
    "\n",
    "import pickle\n",
    "import os"
   ]
  },
  {
   "cell_type": "code",
   "execution_count": 2,
   "metadata": {},
   "outputs": [
    {
     "name": "stdout",
     "output_type": "stream",
     "text": [
      "(115, 335, 192, 1)\n",
      "[1 0 0 0 1 1 0 1 1 1 0 1 0 1 1 1 1 0 1 1 1 0 0 1 1 0 1 0 1 1 1 1 1 1 1 0 1\n",
      " 0 1 1 1 1 1 1 0 1 0 1 0 1 1 0 1 0 0 0 1 1 1 1 1 1 1 1 1 1 0 1 0 1 1 1 0 1\n",
      " 1 1 1 0 1 1 1 0 0 1 1 1 0 0 1 1 0 1 0 1 0 1 0 1 1 1 0 1 1 0 0 1 1 0 1 1 0\n",
      " 1 0 0 1]\n"
     ]
    }
   ],
   "source": [
    "pickle_in = open(\"MK2ECG_X_train.pickle\",\"rb\")\n",
    "ECG_X_train = pickle.load(pickle_in)\n",
    "\n",
    "pickle_in = open(\"MK2ECG_y_train.pickle\",\"rb\")\n",
    "ECG_y_train = pickle.load(pickle_in)\n",
    "\n",
    "ECG_X_train = ECG_X_train/255.0\n",
    "print(ECG_X_train.shape)\n",
    "print(ECG_y_train)"
   ]
  },
  {
   "cell_type": "code",
   "execution_count": 3,
   "metadata": {},
   "outputs": [
    {
     "name": "stdout",
     "output_type": "stream",
     "text": [
      "(115, 335, 192, 1)\n",
      "[1 1 1 0 1 0 1 0 1 1 1 1 1 0 1 1 0 1 1 0 1 1 0 0 1 0 1 1 0 1 1 1 1 1 0 1 1\n",
      " 0 0 1 0 0 1 0 0 1 0 1 0 1 1 0 0 1 0 1 0 0 1 1 1 1 1 1 0 1 1 0 0 0 1 1 1 1\n",
      " 1 1 0 1 0 1 1 1 1 0 1 0 1 1 1 1 0 1 0 1 0 1 1 1 0 0 1 1 0 1 1 1 1 1 1 0 1\n",
      " 1 1 1 1]\n"
     ]
    }
   ],
   "source": [
    "pickle_in = open(\"MK2ECG_X_test.pickle\",\"rb\")\n",
    "ECG_X_test = pickle.load(pickle_in)\n",
    "\n",
    "pickle_in = open(\"MK2ECG_y_test.pickle\",\"rb\")\n",
    "ECG_y_test = pickle.load(pickle_in)\n",
    "\n",
    "ECG_X_test = ECG_X_test/255.0\n",
    "print(ECG_X_test.shape)\n",
    "print(ECG_y_test)"
   ]
  },
  {
   "cell_type": "code",
   "execution_count": 25,
   "metadata": {
    "scrolled": true
   },
   "outputs": [
    {
     "name": "stdout",
     "output_type": "stream",
     "text": [
      "Epoch 1/100\n",
      "11/11 [==============================] - 1s 36ms/step - loss: 63.5269 - accuracy: 0.5825 - val_loss: 0.9224 - val_accuracy: 0.5000\n",
      "Epoch 2/100\n",
      "11/11 [==============================] - 0s 20ms/step - loss: 3.6006 - accuracy: 0.5146 - val_loss: 0.6917 - val_accuracy: 0.5000\n",
      "Epoch 3/100\n",
      "11/11 [==============================] - 0s 20ms/step - loss: 0.6029 - accuracy: 0.7573 - val_loss: 0.6925 - val_accuracy: 0.5000\n",
      "Epoch 4/100\n",
      "11/11 [==============================] - 0s 20ms/step - loss: 0.5701 - accuracy: 0.7379 - val_loss: 0.6729 - val_accuracy: 0.6667\n",
      "Epoch 5/100\n",
      "11/11 [==============================] - 0s 20ms/step - loss: 0.4358 - accuracy: 0.7864 - val_loss: 0.6448 - val_accuracy: 0.7500\n",
      "Epoch 6/100\n",
      "11/11 [==============================] - 0s 22ms/step - loss: 0.2212 - accuracy: 0.9126 - val_loss: 0.7009 - val_accuracy: 0.5000\n",
      "Epoch 7/100\n",
      "11/11 [==============================] - 0s 19ms/step - loss: 0.3621 - accuracy: 0.9223 - val_loss: 0.6386 - val_accuracy: 0.6667\n",
      "Epoch 8/100\n",
      "11/11 [==============================] - 0s 21ms/step - loss: 0.1186 - accuracy: 0.9612 - val_loss: 0.5879 - val_accuracy: 0.5833\n",
      "Epoch 9/100\n",
      "11/11 [==============================] - 0s 20ms/step - loss: 0.0302 - accuracy: 1.0000 - val_loss: 0.5560 - val_accuracy: 0.6667\n",
      "Epoch 10/100\n",
      "11/11 [==============================] - 0s 20ms/step - loss: 0.0148 - accuracy: 1.0000 - val_loss: 0.5590 - val_accuracy: 0.5833\n",
      "Epoch 11/100\n",
      "11/11 [==============================] - 0s 19ms/step - loss: 0.0093 - accuracy: 1.0000 - val_loss: 0.4884 - val_accuracy: 0.9167\n",
      "Epoch 12/100\n",
      "11/11 [==============================] - 0s 18ms/step - loss: 0.0067 - accuracy: 1.0000 - val_loss: 0.5251 - val_accuracy: 0.5833\n",
      "Epoch 13/100\n",
      "11/11 [==============================] - 0s 18ms/step - loss: 0.0058 - accuracy: 1.0000 - val_loss: 0.4760 - val_accuracy: 0.7500\n",
      "Epoch 14/100\n",
      "11/11 [==============================] - 0s 18ms/step - loss: 0.0045 - accuracy: 1.0000 - val_loss: 0.4948 - val_accuracy: 0.7500\n",
      "Epoch 15/100\n",
      "11/11 [==============================] - 0s 19ms/step - loss: 0.0021 - accuracy: 1.0000 - val_loss: 0.4648 - val_accuracy: 0.7500\n",
      "Epoch 16/100\n",
      "11/11 [==============================] - 0s 19ms/step - loss: 0.0018 - accuracy: 1.0000 - val_loss: 0.4664 - val_accuracy: 0.7500\n",
      "Epoch 17/100\n",
      "11/11 [==============================] - 0s 18ms/step - loss: 0.0014 - accuracy: 1.0000 - val_loss: 0.4442 - val_accuracy: 0.7500\n",
      "Epoch 18/100\n",
      "11/11 [==============================] - 0s 18ms/step - loss: 0.0012 - accuracy: 1.0000 - val_loss: 0.4337 - val_accuracy: 0.7500\n",
      "Epoch 19/100\n",
      "11/11 [==============================] - 0s 18ms/step - loss: 0.0011 - accuracy: 1.0000 - val_loss: 0.4318 - val_accuracy: 0.7500\n",
      "Epoch 20/100\n",
      "11/11 [==============================] - 0s 18ms/step - loss: 0.0010 - accuracy: 1.0000 - val_loss: 0.4070 - val_accuracy: 0.7500\n",
      "Epoch 21/100\n",
      "11/11 [==============================] - 0s 18ms/step - loss: 8.3731e-04 - accuracy: 1.0000 - val_loss: 0.4233 - val_accuracy: 0.7500\n",
      "Epoch 22/100\n",
      "11/11 [==============================] - 0s 19ms/step - loss: 8.2525e-04 - accuracy: 1.0000 - val_loss: 0.3988 - val_accuracy: 0.7500\n",
      "Epoch 23/100\n",
      "11/11 [==============================] - 0s 19ms/step - loss: 7.3664e-04 - accuracy: 1.0000 - val_loss: 0.4047 - val_accuracy: 0.7500\n",
      "Epoch 24/100\n",
      "11/11 [==============================] - 0s 21ms/step - loss: 6.3214e-04 - accuracy: 1.0000 - val_loss: 0.3974 - val_accuracy: 0.7500\n",
      "Epoch 25/100\n",
      "11/11 [==============================] - 0s 19ms/step - loss: 5.7794e-04 - accuracy: 1.0000 - val_loss: 0.3861 - val_accuracy: 0.7500\n",
      "Epoch 26/100\n",
      "11/11 [==============================] - 0s 18ms/step - loss: 5.5901e-04 - accuracy: 1.0000 - val_loss: 0.3780 - val_accuracy: 0.7500\n",
      "Epoch 27/100\n",
      "11/11 [==============================] - 0s 20ms/step - loss: 5.3688e-04 - accuracy: 1.0000 - val_loss: 0.3879 - val_accuracy: 0.7500\n",
      "Epoch 28/100\n",
      "11/11 [==============================] - 0s 20ms/step - loss: 4.7295e-04 - accuracy: 1.0000 - val_loss: 0.3699 - val_accuracy: 0.7500\n",
      "Epoch 29/100\n",
      "11/11 [==============================] - 0s 18ms/step - loss: 4.5601e-04 - accuracy: 1.0000 - val_loss: 0.3662 - val_accuracy: 0.7500\n",
      "Epoch 30/100\n",
      "11/11 [==============================] - 0s 18ms/step - loss: 4.3346e-04 - accuracy: 1.0000 - val_loss: 0.3845 - val_accuracy: 0.7500\n",
      "Epoch 31/100\n",
      "11/11 [==============================] - 0s 18ms/step - loss: 4.0297e-04 - accuracy: 1.0000 - val_loss: 0.3709 - val_accuracy: 0.7500\n",
      "Epoch 32/100\n",
      "11/11 [==============================] - 0s 19ms/step - loss: 4.0982e-04 - accuracy: 1.0000 - val_loss: 0.3554 - val_accuracy: 0.7500\n",
      "Epoch 33/100\n",
      "11/11 [==============================] - 0s 20ms/step - loss: 3.6437e-04 - accuracy: 1.0000 - val_loss: 0.3683 - val_accuracy: 0.7500\n",
      "Epoch 34/100\n",
      "11/11 [==============================] - 0s 23ms/step - loss: 3.4700e-04 - accuracy: 1.0000 - val_loss: 0.3683 - val_accuracy: 0.7500\n",
      "Epoch 35/100\n",
      "11/11 [==============================] - 0s 30ms/step - loss: 3.2123e-04 - accuracy: 1.0000 - val_loss: 0.3758 - val_accuracy: 0.7500\n",
      "Epoch 36/100\n",
      "11/11 [==============================] - 0s 21ms/step - loss: 3.1268e-04 - accuracy: 1.0000 - val_loss: 0.3711 - val_accuracy: 0.7500\n",
      "Epoch 37/100\n",
      "11/11 [==============================] - 0s 25ms/step - loss: 3.0979e-04 - accuracy: 1.0000 - val_loss: 0.3662 - val_accuracy: 0.7500\n",
      "Epoch 38/100\n",
      "11/11 [==============================] - 0s 23ms/step - loss: 2.8641e-04 - accuracy: 1.0000 - val_loss: 0.3726 - val_accuracy: 0.7500\n",
      "Epoch 39/100\n",
      "11/11 [==============================] - 0s 19ms/step - loss: 2.6634e-04 - accuracy: 1.0000 - val_loss: 0.3567 - val_accuracy: 0.7500\n",
      "Epoch 40/100\n",
      "11/11 [==============================] - 0s 20ms/step - loss: 2.5954e-04 - accuracy: 1.0000 - val_loss: 0.3902 - val_accuracy: 0.7500\n",
      "Epoch 41/100\n",
      "11/11 [==============================] - 0s 19ms/step - loss: 2.6268e-04 - accuracy: 1.0000 - val_loss: 0.3614 - val_accuracy: 0.7500\n",
      "Epoch 42/100\n",
      "11/11 [==============================] - 0s 18ms/step - loss: 2.4777e-04 - accuracy: 1.0000 - val_loss: 0.4016 - val_accuracy: 0.7500\n",
      "Epoch 43/100\n",
      "11/11 [==============================] - 0s 18ms/step - loss: 2.2563e-04 - accuracy: 1.0000 - val_loss: 0.3646 - val_accuracy: 0.7500\n",
      "Epoch 44/100\n",
      "11/11 [==============================] - 0s 20ms/step - loss: 2.3082e-04 - accuracy: 1.0000 - val_loss: 0.3663 - val_accuracy: 0.7500\n",
      "Epoch 45/100\n",
      "11/11 [==============================] - 0s 20ms/step - loss: 2.1453e-04 - accuracy: 1.0000 - val_loss: 0.4109 - val_accuracy: 0.7500\n",
      "Epoch 46/100\n",
      "11/11 [==============================] - 0s 21ms/step - loss: 2.0154e-04 - accuracy: 1.0000 - val_loss: 0.4010 - val_accuracy: 0.7500\n",
      "Epoch 47/100\n",
      "11/11 [==============================] - 0s 19ms/step - loss: 1.9881e-04 - accuracy: 1.0000 - val_loss: 0.4187 - val_accuracy: 0.7500\n",
      "Epoch 48/100\n",
      "11/11 [==============================] - 0s 19ms/step - loss: 1.8749e-04 - accuracy: 1.0000 - val_loss: 0.4024 - val_accuracy: 0.7500\n",
      "Epoch 49/100\n",
      "11/11 [==============================] - 0s 20ms/step - loss: 1.8249e-04 - accuracy: 1.0000 - val_loss: 0.4120 - val_accuracy: 0.7500\n",
      "Epoch 50/100\n",
      "11/11 [==============================] - 0s 19ms/step - loss: 1.7425e-04 - accuracy: 1.0000 - val_loss: 0.4279 - val_accuracy: 0.7500\n",
      "Epoch 51/100\n",
      "11/11 [==============================] - 0s 19ms/step - loss: 1.7496e-04 - accuracy: 1.0000 - val_loss: 0.4107 - val_accuracy: 0.7500\n",
      "Epoch 52/100\n",
      "11/11 [==============================] - 0s 19ms/step - loss: 1.6196e-04 - accuracy: 1.0000 - val_loss: 0.4531 - val_accuracy: 0.7500\n",
      "Epoch 53/100\n",
      "11/11 [==============================] - 0s 19ms/step - loss: 1.5977e-04 - accuracy: 1.0000 - val_loss: 0.4301 - val_accuracy: 0.7500\n",
      "Epoch 54/100\n",
      "11/11 [==============================] - 0s 18ms/step - loss: 1.5476e-04 - accuracy: 1.0000 - val_loss: 0.4304 - val_accuracy: 0.7500\n",
      "Epoch 55/100\n",
      "11/11 [==============================] - 0s 18ms/step - loss: 1.5150e-04 - accuracy: 1.0000 - val_loss: 0.4575 - val_accuracy: 0.7500\n",
      "Epoch 56/100\n",
      "11/11 [==============================] - 0s 18ms/step - loss: 1.4872e-04 - accuracy: 1.0000 - val_loss: 0.4354 - val_accuracy: 0.7500\n",
      "Epoch 57/100\n"
     ]
    },
    {
     "name": "stdout",
     "output_type": "stream",
     "text": [
      "11/11 [==============================] - 0s 19ms/step - loss: 1.4592e-04 - accuracy: 1.0000 - val_loss: 0.4555 - val_accuracy: 0.7500\n",
      "Epoch 58/100\n",
      "11/11 [==============================] - 0s 19ms/step - loss: 1.3466e-04 - accuracy: 1.0000 - val_loss: 0.4256 - val_accuracy: 0.8333\n",
      "Epoch 59/100\n",
      "11/11 [==============================] - 0s 19ms/step - loss: 1.3593e-04 - accuracy: 1.0000 - val_loss: 0.4446 - val_accuracy: 0.7500\n",
      "Epoch 60/100\n",
      "11/11 [==============================] - 0s 22ms/step - loss: 1.3561e-04 - accuracy: 1.0000 - val_loss: 0.5040 - val_accuracy: 0.7500\n",
      "Epoch 61/100\n",
      "11/11 [==============================] - 0s 21ms/step - loss: 1.2860e-04 - accuracy: 1.0000 - val_loss: 0.4350 - val_accuracy: 0.9167\n",
      "Epoch 62/100\n",
      "11/11 [==============================] - 0s 22ms/step - loss: 1.1962e-04 - accuracy: 1.0000 - val_loss: 0.4690 - val_accuracy: 0.7500\n",
      "Epoch 63/100\n",
      "11/11 [==============================] - 0s 22ms/step - loss: 1.2273e-04 - accuracy: 1.0000 - val_loss: 0.4734 - val_accuracy: 0.7500\n",
      "Epoch 64/100\n",
      "11/11 [==============================] - 0s 22ms/step - loss: 1.1579e-04 - accuracy: 1.0000 - val_loss: 0.4610 - val_accuracy: 0.8333\n",
      "Epoch 65/100\n",
      "11/11 [==============================] - 0s 21ms/step - loss: 1.1191e-04 - accuracy: 1.0000 - val_loss: 0.4530 - val_accuracy: 0.9167\n",
      "Epoch 66/100\n",
      "11/11 [==============================] - 0s 19ms/step - loss: 1.1095e-04 - accuracy: 1.0000 - val_loss: 0.4886 - val_accuracy: 0.7500\n",
      "Epoch 67/100\n",
      "11/11 [==============================] - 0s 21ms/step - loss: 1.0487e-04 - accuracy: 1.0000 - val_loss: 0.4388 - val_accuracy: 0.9167\n",
      "Epoch 68/100\n",
      "11/11 [==============================] - 0s 22ms/step - loss: 1.0112e-04 - accuracy: 1.0000 - val_loss: 0.4930 - val_accuracy: 0.7500\n",
      "Epoch 69/100\n",
      "11/11 [==============================] - 0s 22ms/step - loss: 1.0491e-04 - accuracy: 1.0000 - val_loss: 0.4873 - val_accuracy: 0.7500\n",
      "Epoch 70/100\n",
      "11/11 [==============================] - 0s 21ms/step - loss: 9.7936e-05 - accuracy: 1.0000 - val_loss: 0.4916 - val_accuracy: 0.7500\n",
      "Epoch 71/100\n",
      "11/11 [==============================] - 0s 21ms/step - loss: 9.5514e-05 - accuracy: 1.0000 - val_loss: 0.4856 - val_accuracy: 0.9167\n",
      "Epoch 72/100\n",
      "11/11 [==============================] - 0s 20ms/step - loss: 9.1883e-05 - accuracy: 1.0000 - val_loss: 0.4850 - val_accuracy: 0.9167\n",
      "Epoch 73/100\n",
      "11/11 [==============================] - 0s 19ms/step - loss: 9.1835e-05 - accuracy: 1.0000 - val_loss: 0.4933 - val_accuracy: 0.9167\n",
      "Epoch 74/100\n",
      "11/11 [==============================] - 0s 20ms/step - loss: 8.7640e-05 - accuracy: 1.0000 - val_loss: 0.4609 - val_accuracy: 0.9167\n",
      "Epoch 75/100\n",
      "11/11 [==============================] - 0s 21ms/step - loss: 8.7517e-05 - accuracy: 1.0000 - val_loss: 0.4736 - val_accuracy: 0.9167\n",
      "Epoch 76/100\n",
      "11/11 [==============================] - 0s 21ms/step - loss: 8.4642e-05 - accuracy: 1.0000 - val_loss: 0.4849 - val_accuracy: 0.9167\n",
      "Epoch 77/100\n",
      "11/11 [==============================] - 0s 22ms/step - loss: 8.2516e-05 - accuracy: 1.0000 - val_loss: 0.4417 - val_accuracy: 0.9167\n",
      "Epoch 78/100\n",
      "11/11 [==============================] - 0s 21ms/step - loss: 8.1794e-05 - accuracy: 1.0000 - val_loss: 0.4761 - val_accuracy: 0.9167\n",
      "Epoch 79/100\n",
      "11/11 [==============================] - 0s 18ms/step - loss: 8.0311e-05 - accuracy: 1.0000 - val_loss: 0.4728 - val_accuracy: 0.9167\n",
      "Epoch 80/100\n",
      "11/11 [==============================] - 0s 19ms/step - loss: 7.6880e-05 - accuracy: 1.0000 - val_loss: 0.4982 - val_accuracy: 0.9167\n",
      "Epoch 81/100\n",
      "11/11 [==============================] - 0s 19ms/step - loss: 8.1057e-05 - accuracy: 1.0000 - val_loss: 0.5117 - val_accuracy: 0.9167\n",
      "Epoch 82/100\n",
      "11/11 [==============================] - 0s 25ms/step - loss: 7.3020e-05 - accuracy: 1.0000 - val_loss: 0.4677 - val_accuracy: 0.9167\n",
      "Epoch 83/100\n",
      "11/11 [==============================] - 0s 22ms/step - loss: 7.2346e-05 - accuracy: 1.0000 - val_loss: 0.4736 - val_accuracy: 0.9167\n",
      "Epoch 84/100\n",
      "11/11 [==============================] - 0s 22ms/step - loss: 7.1056e-05 - accuracy: 1.0000 - val_loss: 0.4955 - val_accuracy: 0.9167\n",
      "Epoch 85/100\n",
      "11/11 [==============================] - 0s 23ms/step - loss: 6.8822e-05 - accuracy: 1.0000 - val_loss: 0.4911 - val_accuracy: 0.9167\n",
      "Epoch 86/100\n",
      "11/11 [==============================] - 0s 21ms/step - loss: 6.7249e-05 - accuracy: 1.0000 - val_loss: 0.4949 - val_accuracy: 0.9167\n",
      "Epoch 87/100\n",
      "11/11 [==============================] - 0s 22ms/step - loss: 6.6344e-05 - accuracy: 1.0000 - val_loss: 0.5260 - val_accuracy: 0.9167\n",
      "Epoch 88/100\n",
      "11/11 [==============================] - 0s 23ms/step - loss: 6.5364e-05 - accuracy: 1.0000 - val_loss: 0.4968 - val_accuracy: 0.9167\n",
      "Epoch 89/100\n",
      "11/11 [==============================] - 0s 24ms/step - loss: 6.3900e-05 - accuracy: 1.0000 - val_loss: 0.4884 - val_accuracy: 0.9167\n",
      "Epoch 90/100\n",
      "11/11 [==============================] - 0s 22ms/step - loss: 6.4086e-05 - accuracy: 1.0000 - val_loss: 0.5197 - val_accuracy: 0.9167\n",
      "Epoch 91/100\n",
      "11/11 [==============================] - 0s 21ms/step - loss: 6.1671e-05 - accuracy: 1.0000 - val_loss: 0.4859 - val_accuracy: 0.9167\n",
      "Epoch 92/100\n",
      "11/11 [==============================] - 0s 18ms/step - loss: 6.0612e-05 - accuracy: 1.0000 - val_loss: 0.5054 - val_accuracy: 0.9167\n",
      "Epoch 93/100\n",
      "11/11 [==============================] - 0s 18ms/step - loss: 5.8644e-05 - accuracy: 1.0000 - val_loss: 0.5089 - val_accuracy: 0.9167\n",
      "Epoch 94/100\n",
      "11/11 [==============================] - 0s 19ms/step - loss: 5.8920e-05 - accuracy: 1.0000 - val_loss: 0.5439 - val_accuracy: 0.8333\n",
      "Epoch 95/100\n",
      "11/11 [==============================] - 0s 18ms/step - loss: 5.5993e-05 - accuracy: 1.0000 - val_loss: 0.4955 - val_accuracy: 0.9167\n",
      "Epoch 96/100\n",
      "11/11 [==============================] - 0s 18ms/step - loss: 5.5978e-05 - accuracy: 1.0000 - val_loss: 0.4959 - val_accuracy: 0.9167\n",
      "Epoch 97/100\n",
      "11/11 [==============================] - 0s 18ms/step - loss: 5.4914e-05 - accuracy: 1.0000 - val_loss: 0.5121 - val_accuracy: 0.9167\n",
      "Epoch 98/100\n",
      "11/11 [==============================] - 0s 19ms/step - loss: 5.2877e-05 - accuracy: 1.0000 - val_loss: 0.4866 - val_accuracy: 0.9167\n",
      "Epoch 99/100\n",
      "11/11 [==============================] - 0s 18ms/step - loss: 5.2713e-05 - accuracy: 1.0000 - val_loss: 0.5271 - val_accuracy: 0.9167\n",
      "Epoch 100/100\n",
      "11/11 [==============================] - 0s 18ms/step - loss: 5.1212e-05 - accuracy: 1.0000 - val_loss: 0.5062 - val_accuracy: 0.9167\n"
     ]
    },
    {
     "name": "stderr",
     "output_type": "stream",
     "text": [
      "WARNING:absl:Found untraced functions such as conv2d_22_layer_call_fn, conv2d_22_layer_call_and_return_conditional_losses, activation_33_layer_call_fn, activation_33_layer_call_and_return_conditional_losses, conv2d_23_layer_call_fn while saving (showing 5 of 40). These functions will not be directly callable after loading.\n"
     ]
    },
    {
     "name": "stdout",
     "output_type": "stream",
     "text": [
      "INFO:tensorflow:Assets written to: MK2ECG_NSR_checker.model\\assets\n"
     ]
    },
    {
     "name": "stderr",
     "output_type": "stream",
     "text": [
      "INFO:tensorflow:Assets written to: MK2ECG_NSR_checker.model\\assets\n"
     ]
    }
   ],
   "source": [
    "model = Sequential()\n",
    "\n",
    "model.add(Conv2D(32, (3, 3), input_shape=ECG_X_train.shape[1:]))\n",
    "model.add(BatchNormalization(axis=-1))\n",
    "model.add(Activation('relu'))\n",
    "model.add(MaxPooling2D(pool_size=(2, 2)))\n",
    "\n",
    "model.add(Conv2D(32, (3, 3)))\n",
    "model.add(Activation('relu'))\n",
    "model.add(MaxPooling2D(pool_size=(2, 2)))\n",
    "\n",
    "model.add(Flatten())  # this converts our 3D feature maps to 1D feature vectors\n",
    "\n",
    "model.add(Dense(64))\n",
    "\n",
    "model.add(Dense(1))\n",
    "model.add(Activation('sigmoid'))\n",
    "\n",
    "model.compile(loss='binary_crossentropy',\n",
    "              optimizer='adam',\n",
    "              metrics=['accuracy'])\n",
    "\n",
    "hist = model.fit(ECG_X_train, ECG_y_train, batch_size=10, epochs=100, validation_split=0.1)\n",
    "model.save('MK2ECG_NSR_checker.model')"
   ]
  },
  {
   "cell_type": "code",
   "execution_count": 26,
   "metadata": {},
   "outputs": [
    {
     "name": "stdout",
     "output_type": "stream",
     "text": [
      "4/4 [==============================] - 0s 15ms/step - loss: 0.0529 - accuracy: 0.9913\n"
     ]
    },
    {
     "data": {
      "text/plain": [
       "0.991304337978363"
      ]
     },
     "execution_count": 26,
     "metadata": {},
     "output_type": "execute_result"
    }
   ],
   "source": [
    "model.evaluate(ECG_X_test, ECG_y_test)[1]"
   ]
  },
  {
   "cell_type": "code",
   "execution_count": 27,
   "metadata": {},
   "outputs": [
    {
     "data": {
      "image/png": "[encoded data removed]",
      "text/plain": [
       "<Figure size 432x288 with 1 Axes>"
      ]
     },
     "metadata": {},
     "output_type": "display_data"
    }
   ],
   "source": [
    "import matplotlib.pyplot as plt\n",
    "plt.style.use('fivethirtyeight')\n",
    "\n",
    "#Visualize the model accuracy\n",
    "plt.plot(hist.history['accuracy'])\n",
    "plt.plot(hist.history['val_accuracy'])\n",
    "plt.title('Model accuracy')\n",
    "plt.ylabel('Accuracy')\n",
    "plt.xlabel('Epoch')\n",
    "plt.legend(['Train','Val'], loc = 'upper left')\n",
    "plt.show()"
   ]
  },
  {
   "cell_type": "code",
   "execution_count": 28,
   "metadata": {},
   "outputs": [
    {
     "data": {
      "image/png": "[encoded data removed]",
      "text/plain": [
       "<Figure size 432x288 with 1 Axes>"
      ]
     },
     "metadata": {},
     "output_type": "display_data"
    }
   ],
   "source": [
    "#Visualize the model loss\n",
    "plt.plot(hist.history['loss'])\n",
    "plt.plot(hist.history['val_loss'])\n",
    "plt.title('Model Loss')\n",
    "plt.ylabel('Loss')\n",
    "plt.xlabel('Epoch')\n",
    "plt.legend(['Train','Val'], loc = 'upper right')\n",
    "plt.show()"
   ]
  },
  {
   "cell_type": "code",
   "execution_count": null,
   "metadata": {},
   "outputs": [],
   "source": []
  },
  {
   "cell_type": "code",
   "execution_count": null,
   "metadata": {},
   "outputs": [],
   "source": []
  }
 ],
 "metadata": {
  "kernelspec": {
   "display_name": "Python 3.7 (tensorflow)",
   "language": "python",
   "name": "tensorflow"
  },
  "language_info": {
   "codemirror_mode": {
    "name": "ipython",
    "version": 3
   },
   "file_extension": ".py",
   "mimetype": "text/x-python",
   "name": "python",
   "nbconvert_exporter": "python",
   "pygments_lexer": "ipython3",
   "version": "3.7.10"
  }
 },
 "nbformat": 4,
 "nbformat_minor": 4
}
